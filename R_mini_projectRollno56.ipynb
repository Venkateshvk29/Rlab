{
  "nbformat": 4,
  "nbformat_minor": 0,
  "metadata": {
    "colab": {
      "name": "R_mini_projectRollno56.ipynb",
      "provenance": [],
      "authorship_tag": "ABX9TyMNGTDrAXreII4UclrY89Mk",
      "include_colab_link": true
    },
    "kernelspec": {
      "name": "ir",
      "display_name": "R"
    },
    "language_info": {
      "name": "R"
    }
  },
  "cells": [
    {
      "cell_type": "markdown",
      "metadata": {
        "id": "view-in-github",
        "colab_type": "text"
      },
      "source": [
        "<a href=\"https://colab.research.google.com/github/Venkateshvk29/Rlab/blob/main/R_mini_projectRollno56.ipynb\" target=\"_parent\"><img src=\"https://colab.research.google.com/assets/colab-badge.svg\" alt=\"Open In Colab\"/></a>"
      ]
    },
    {
      "cell_type": "code",
      "metadata": {
        "colab": {
          "base_uri": "https://localhost:8080/",
          "height": 1000
        },
        "id": "B7j_Wc1ro17r",
        "outputId": "be9121e4-2916-4cda-d8f9-31cb1f910434"
      },
      "source": [
        "info<-read.csv(\"https://raw.githubusercontent.com/Venkateshvk29/Rlab/main/healthcare-dataset-stroke-data.csv\")\n",
        "info"
      ],
      "execution_count": 6,
      "outputs": [
        {
          "output_type": "display_data",
          "data": {
            "text/plain": [
              "     id    gender age   hypertension heart_disease ever_married work_type    \n",
              "1     9046 Male   67    0            1             Yes          Private      \n",
              "2    51676 Female 61    0            0             Yes          Self-employed\n",
              "3    31112 Male   80    0            1             Yes          Private      \n",
              "4    60182 Female 49    0            0             Yes          Private      \n",
              "5     1665 Female 79    1            0             Yes          Self-employed\n",
              "6    56669 Male   81    0            0             Yes          Private      \n",
              "7    53882 Male   74    1            1             Yes          Private      \n",
              "8    10434 Female 69    0            0             No           Private      \n",
              "9    27419 Female 59    0            0             Yes          Private      \n",
              "10   60491 Female 78    0            0             Yes          Private      \n",
              "11   12109 Female 81    1            0             Yes          Private      \n",
              "12   12095 Female 61    0            1             Yes          Govt_job     \n",
              "13   12175 Female 54    0            0             Yes          Private      \n",
              "14    8213 Male   78    0            1             Yes          Private      \n",
              "15    5317 Female 79    0            1             Yes          Private      \n",
              "16   58202 Female 50    1            0             Yes          Self-employed\n",
              "17   56112 Male   64    0            1             Yes          Private      \n",
              "18   34120 Male   75    1            0             Yes          Private      \n",
              "19   27458 Female 60    0            0             No           Private      \n",
              "20   25226 Male   57    0            1             No           Govt_job     \n",
              "21   70630 Female 71    0            0             Yes          Govt_job     \n",
              "22   13861 Female 52    1            0             Yes          Self-employed\n",
              "23   68794 Female 79    0            0             Yes          Self-employed\n",
              "24   64778 Male   82    0            1             Yes          Private      \n",
              "25    4219 Male   71    0            0             Yes          Private      \n",
              "26   70822 Male   80    0            0             Yes          Self-employed\n",
              "27   38047 Female 65    0            0             Yes          Private      \n",
              "28   61843 Male   58    0            0             Yes          Private      \n",
              "29   54827 Male   69    0            1             Yes          Self-employed\n",
              "30   69160 Male   59    0            0             Yes          Private      \n",
              "⋮    ⋮     ⋮      ⋮     ⋮            ⋮             ⋮            ⋮            \n",
              "5081 22691 Female 29.00 0            0             Yes          Self-employed\n",
              "5082 37680 Male   55.00 0            0             Yes          Govt_job     \n",
              "5083 24552 Female 44.00 0            0             Yes          Private      \n",
              "5084 72914 Female 19.00 0            0             No           Private      \n",
              "5085 29540 Male   67.00 0            0             Yes          Private      \n",
              "5086 53525 Female 72.00 0            0             Yes          Private      \n",
              "5087 65411 Female 51.00 0            0             Yes          Private      \n",
              "5088 26214 Female 63.00 0            0             Yes          Self-employed\n",
              "5089 22190 Female 64.00 1            0             Yes          Self-employed\n",
              "5090 56714 Female  0.72 0            0             No           children     \n",
              "5091  4211 Male   26.00 0            0             No           Govt_job     \n",
              "5092  6369 Male   59.00 1            0             Yes          Private      \n",
              "5093 56799 Male   76.00 0            0             Yes          Govt_job     \n",
              "5094 32235 Female 45.00 1            0             Yes          Govt_job     \n",
              "5095 28048 Male   13.00 0            0             No           children     \n",
              "5096 68598 Male    1.08 0            0             No           children     \n",
              "5097 41512 Male   57.00 0            0             Yes          Govt_job     \n",
              "5098 64520 Male   68.00 0            0             Yes          Self-employed\n",
              "5099   579 Male    9.00 0            0             No           children     \n",
              "5100  7293 Male   40.00 0            0             Yes          Private      \n",
              "5101 68398 Male   82.00 1            0             Yes          Self-employed\n",
              "5102 36901 Female 45.00 0            0             Yes          Private      \n",
              "5103 45010 Female 57.00 0            0             Yes          Private      \n",
              "5104 22127 Female 18.00 0            0             No           Private      \n",
              "5105 14180 Female 13.00 0            0             No           children     \n",
              "5106 18234 Female 80.00 1            0             Yes          Private      \n",
              "5107 44873 Female 81.00 0            0             Yes          Self-employed\n",
              "5108 19723 Female 35.00 0            0             Yes          Self-employed\n",
              "5109 37544 Male   51.00 0            0             Yes          Private      \n",
              "5110 44679 Female 44.00 0            0             Yes          Govt_job     \n",
              "     Residence_type avg_glucose_level bmi  smoking_status  stroke\n",
              "1    Urban          228.69            36.6 formerly smoked 1     \n",
              "2    Rural          202.21            N/A  never smoked    1     \n",
              "3    Rural          105.92            32.5 never smoked    1     \n",
              "4    Urban          171.23            34.4 smokes          1     \n",
              "5    Rural          174.12            24   never smoked    1     \n",
              "6    Urban          186.21            29   formerly smoked 1     \n",
              "7    Rural           70.09            27.4 never smoked    1     \n",
              "8    Urban           94.39            22.8 never smoked    1     \n",
              "9    Rural           76.15            N/A  Unknown         1     \n",
              "10   Urban           58.57            24.2 Unknown         1     \n",
              "11   Rural           80.43            29.7 never smoked    1     \n",
              "12   Rural          120.46            36.8 smokes          1     \n",
              "13   Urban          104.51            27.3 smokes          1     \n",
              "14   Urban          219.84            N/A  Unknown         1     \n",
              "15   Urban          214.09            28.2 never smoked    1     \n",
              "16   Rural          167.41            30.9 never smoked    1     \n",
              "17   Urban          191.61            37.5 smokes          1     \n",
              "18   Urban          221.29            25.8 smokes          1     \n",
              "19   Urban           89.22            37.8 never smoked    1     \n",
              "20   Urban          217.08            N/A  Unknown         1     \n",
              "21   Rural          193.94            22.4 smokes          1     \n",
              "22   Urban          233.29            48.9 never smoked    1     \n",
              "23   Urban          228.70            26.6 never smoked    1     \n",
              "24   Rural          208.30            32.5 Unknown         1     \n",
              "25   Urban          102.87            27.2 formerly smoked 1     \n",
              "26   Rural          104.12            23.5 never smoked    1     \n",
              "27   Rural          100.98            28.2 formerly smoked 1     \n",
              "28   Rural          189.84            N/A  Unknown         1     \n",
              "29   Urban          195.23            28.3 smokes          1     \n",
              "30   Rural          211.78            N/A  formerly smoked 1     \n",
              "⋮    ⋮              ⋮                 ⋮    ⋮               ⋮     \n",
              "5081 Urban           90.52            28   never smoked    0     \n",
              "5082 Rural          108.35            40.8 formerly smoked 0     \n",
              "5083 Rural           72.03            37.5 smokes          0     \n",
              "5084 Urban           90.57            24.2 Unknown         0     \n",
              "5085 Rural           97.04            26.9 smokes          0     \n",
              "5086 Urban           83.89            33.1 formerly smoked 0     \n",
              "5087 Urban          152.56            21.8 Unknown         0     \n",
              "5088 Rural           75.93            34.7 formerly smoked 0     \n",
              "5089 Urban           76.89            30.2 Unknown         0     \n",
              "5090 Rural           62.13            16.8 Unknown         0     \n",
              "5091 Rural          100.85            21   smokes          0     \n",
              "5092 Rural           95.05            30.9 never smoked    0     \n",
              "5093 Urban           82.35            38.9 never smoked    0     \n",
              "5094 Rural           95.02            N/A  smokes          0     \n",
              "5095 Urban           82.38            24.3 Unknown         0     \n",
              "5096 Rural           79.15            17.4 Unknown         0     \n",
              "5097 Rural           76.62            28.2 never smoked    0     \n",
              "5098 Urban           91.68            40.8 Unknown         0     \n",
              "5099 Urban           71.88            17.5 Unknown         0     \n",
              "5100 Rural           83.94            N/A  smokes          0     \n",
              "5101 Rural           71.97            28.3 never smoked    0     \n",
              "5102 Urban           97.95            24.5 Unknown         0     \n",
              "5103 Rural           77.93            21.7 never smoked    0     \n",
              "5104 Urban           82.85            46.9 Unknown         0     \n",
              "5105 Rural          103.08            18.6 Unknown         0     \n",
              "5106 Urban           83.75            N/A  never smoked    0     \n",
              "5107 Urban          125.20            40   never smoked    0     \n",
              "5108 Rural           82.99            30.6 never smoked    0     \n",
              "5109 Rural          166.29            25.6 formerly smoked 0     \n",
              "5110 Urban           85.28            26.2 Unknown         0     "
            ],
            "text/latex": "A data.frame: 5110 × 12\n\\begin{tabular}{llllllllllll}\n id & gender & age & hypertension & heart\\_disease & ever\\_married & work\\_type & Residence\\_type & avg\\_glucose\\_level & bmi & smoking\\_status & stroke\\\\\n <int> & <chr> & <dbl> & <int> & <int> & <chr> & <chr> & <chr> & <dbl> & <chr> & <chr> & <int>\\\\\n\\hline\n\t  9046 & Male   & 67 & 0 & 1 & Yes & Private       & Urban & 228.69 & 36.6 & formerly smoked & 1\\\\\n\t 51676 & Female & 61 & 0 & 0 & Yes & Self-employed & Rural & 202.21 & N/A  & never smoked    & 1\\\\\n\t 31112 & Male   & 80 & 0 & 1 & Yes & Private       & Rural & 105.92 & 32.5 & never smoked    & 1\\\\\n\t 60182 & Female & 49 & 0 & 0 & Yes & Private       & Urban & 171.23 & 34.4 & smokes          & 1\\\\\n\t  1665 & Female & 79 & 1 & 0 & Yes & Self-employed & Rural & 174.12 & 24   & never smoked    & 1\\\\\n\t 56669 & Male   & 81 & 0 & 0 & Yes & Private       & Urban & 186.21 & 29   & formerly smoked & 1\\\\\n\t 53882 & Male   & 74 & 1 & 1 & Yes & Private       & Rural &  70.09 & 27.4 & never smoked    & 1\\\\\n\t 10434 & Female & 69 & 0 & 0 & No  & Private       & Urban &  94.39 & 22.8 & never smoked    & 1\\\\\n\t 27419 & Female & 59 & 0 & 0 & Yes & Private       & Rural &  76.15 & N/A  & Unknown         & 1\\\\\n\t 60491 & Female & 78 & 0 & 0 & Yes & Private       & Urban &  58.57 & 24.2 & Unknown         & 1\\\\\n\t 12109 & Female & 81 & 1 & 0 & Yes & Private       & Rural &  80.43 & 29.7 & never smoked    & 1\\\\\n\t 12095 & Female & 61 & 0 & 1 & Yes & Govt\\_job      & Rural & 120.46 & 36.8 & smokes          & 1\\\\\n\t 12175 & Female & 54 & 0 & 0 & Yes & Private       & Urban & 104.51 & 27.3 & smokes          & 1\\\\\n\t  8213 & Male   & 78 & 0 & 1 & Yes & Private       & Urban & 219.84 & N/A  & Unknown         & 1\\\\\n\t  5317 & Female & 79 & 0 & 1 & Yes & Private       & Urban & 214.09 & 28.2 & never smoked    & 1\\\\\n\t 58202 & Female & 50 & 1 & 0 & Yes & Self-employed & Rural & 167.41 & 30.9 & never smoked    & 1\\\\\n\t 56112 & Male   & 64 & 0 & 1 & Yes & Private       & Urban & 191.61 & 37.5 & smokes          & 1\\\\\n\t 34120 & Male   & 75 & 1 & 0 & Yes & Private       & Urban & 221.29 & 25.8 & smokes          & 1\\\\\n\t 27458 & Female & 60 & 0 & 0 & No  & Private       & Urban &  89.22 & 37.8 & never smoked    & 1\\\\\n\t 25226 & Male   & 57 & 0 & 1 & No  & Govt\\_job      & Urban & 217.08 & N/A  & Unknown         & 1\\\\\n\t 70630 & Female & 71 & 0 & 0 & Yes & Govt\\_job      & Rural & 193.94 & 22.4 & smokes          & 1\\\\\n\t 13861 & Female & 52 & 1 & 0 & Yes & Self-employed & Urban & 233.29 & 48.9 & never smoked    & 1\\\\\n\t 68794 & Female & 79 & 0 & 0 & Yes & Self-employed & Urban & 228.70 & 26.6 & never smoked    & 1\\\\\n\t 64778 & Male   & 82 & 0 & 1 & Yes & Private       & Rural & 208.30 & 32.5 & Unknown         & 1\\\\\n\t  4219 & Male   & 71 & 0 & 0 & Yes & Private       & Urban & 102.87 & 27.2 & formerly smoked & 1\\\\\n\t 70822 & Male   & 80 & 0 & 0 & Yes & Self-employed & Rural & 104.12 & 23.5 & never smoked    & 1\\\\\n\t 38047 & Female & 65 & 0 & 0 & Yes & Private       & Rural & 100.98 & 28.2 & formerly smoked & 1\\\\\n\t 61843 & Male   & 58 & 0 & 0 & Yes & Private       & Rural & 189.84 & N/A  & Unknown         & 1\\\\\n\t 54827 & Male   & 69 & 0 & 1 & Yes & Self-employed & Urban & 195.23 & 28.3 & smokes          & 1\\\\\n\t 69160 & Male   & 59 & 0 & 0 & Yes & Private       & Rural & 211.78 & N/A  & formerly smoked & 1\\\\\n\t ⋮ & ⋮ & ⋮ & ⋮ & ⋮ & ⋮ & ⋮ & ⋮ & ⋮ & ⋮ & ⋮ & ⋮\\\\\n\t 22691 & Female & 29.00 & 0 & 0 & Yes & Self-employed & Urban &  90.52 & 28   & never smoked    & 0\\\\\n\t 37680 & Male   & 55.00 & 0 & 0 & Yes & Govt\\_job      & Rural & 108.35 & 40.8 & formerly smoked & 0\\\\\n\t 24552 & Female & 44.00 & 0 & 0 & Yes & Private       & Rural &  72.03 & 37.5 & smokes          & 0\\\\\n\t 72914 & Female & 19.00 & 0 & 0 & No  & Private       & Urban &  90.57 & 24.2 & Unknown         & 0\\\\\n\t 29540 & Male   & 67.00 & 0 & 0 & Yes & Private       & Rural &  97.04 & 26.9 & smokes          & 0\\\\\n\t 53525 & Female & 72.00 & 0 & 0 & Yes & Private       & Urban &  83.89 & 33.1 & formerly smoked & 0\\\\\n\t 65411 & Female & 51.00 & 0 & 0 & Yes & Private       & Urban & 152.56 & 21.8 & Unknown         & 0\\\\\n\t 26214 & Female & 63.00 & 0 & 0 & Yes & Self-employed & Rural &  75.93 & 34.7 & formerly smoked & 0\\\\\n\t 22190 & Female & 64.00 & 1 & 0 & Yes & Self-employed & Urban &  76.89 & 30.2 & Unknown         & 0\\\\\n\t 56714 & Female &  0.72 & 0 & 0 & No  & children      & Rural &  62.13 & 16.8 & Unknown         & 0\\\\\n\t  4211 & Male   & 26.00 & 0 & 0 & No  & Govt\\_job      & Rural & 100.85 & 21   & smokes          & 0\\\\\n\t  6369 & Male   & 59.00 & 1 & 0 & Yes & Private       & Rural &  95.05 & 30.9 & never smoked    & 0\\\\\n\t 56799 & Male   & 76.00 & 0 & 0 & Yes & Govt\\_job      & Urban &  82.35 & 38.9 & never smoked    & 0\\\\\n\t 32235 & Female & 45.00 & 1 & 0 & Yes & Govt\\_job      & Rural &  95.02 & N/A  & smokes          & 0\\\\\n\t 28048 & Male   & 13.00 & 0 & 0 & No  & children      & Urban &  82.38 & 24.3 & Unknown         & 0\\\\\n\t 68598 & Male   &  1.08 & 0 & 0 & No  & children      & Rural &  79.15 & 17.4 & Unknown         & 0\\\\\n\t 41512 & Male   & 57.00 & 0 & 0 & Yes & Govt\\_job      & Rural &  76.62 & 28.2 & never smoked    & 0\\\\\n\t 64520 & Male   & 68.00 & 0 & 0 & Yes & Self-employed & Urban &  91.68 & 40.8 & Unknown         & 0\\\\\n\t   579 & Male   &  9.00 & 0 & 0 & No  & children      & Urban &  71.88 & 17.5 & Unknown         & 0\\\\\n\t  7293 & Male   & 40.00 & 0 & 0 & Yes & Private       & Rural &  83.94 & N/A  & smokes          & 0\\\\\n\t 68398 & Male   & 82.00 & 1 & 0 & Yes & Self-employed & Rural &  71.97 & 28.3 & never smoked    & 0\\\\\n\t 36901 & Female & 45.00 & 0 & 0 & Yes & Private       & Urban &  97.95 & 24.5 & Unknown         & 0\\\\\n\t 45010 & Female & 57.00 & 0 & 0 & Yes & Private       & Rural &  77.93 & 21.7 & never smoked    & 0\\\\\n\t 22127 & Female & 18.00 & 0 & 0 & No  & Private       & Urban &  82.85 & 46.9 & Unknown         & 0\\\\\n\t 14180 & Female & 13.00 & 0 & 0 & No  & children      & Rural & 103.08 & 18.6 & Unknown         & 0\\\\\n\t 18234 & Female & 80.00 & 1 & 0 & Yes & Private       & Urban &  83.75 & N/A  & never smoked    & 0\\\\\n\t 44873 & Female & 81.00 & 0 & 0 & Yes & Self-employed & Urban & 125.20 & 40   & never smoked    & 0\\\\\n\t 19723 & Female & 35.00 & 0 & 0 & Yes & Self-employed & Rural &  82.99 & 30.6 & never smoked    & 0\\\\\n\t 37544 & Male   & 51.00 & 0 & 0 & Yes & Private       & Rural & 166.29 & 25.6 & formerly smoked & 0\\\\\n\t 44679 & Female & 44.00 & 0 & 0 & Yes & Govt\\_job      & Urban &  85.28 & 26.2 & Unknown         & 0\\\\\n\\end{tabular}\n",
            "text/markdown": "\nA data.frame: 5110 × 12\n\n| id &lt;int&gt; | gender &lt;chr&gt; | age &lt;dbl&gt; | hypertension &lt;int&gt; | heart_disease &lt;int&gt; | ever_married &lt;chr&gt; | work_type &lt;chr&gt; | Residence_type &lt;chr&gt; | avg_glucose_level &lt;dbl&gt; | bmi &lt;chr&gt; | smoking_status &lt;chr&gt; | stroke &lt;int&gt; |\n|---|---|---|---|---|---|---|---|---|---|---|---|\n|  9046 | Male   | 67 | 0 | 1 | Yes | Private       | Urban | 228.69 | 36.6 | formerly smoked | 1 |\n| 51676 | Female | 61 | 0 | 0 | Yes | Self-employed | Rural | 202.21 | N/A  | never smoked    | 1 |\n| 31112 | Male   | 80 | 0 | 1 | Yes | Private       | Rural | 105.92 | 32.5 | never smoked    | 1 |\n| 60182 | Female | 49 | 0 | 0 | Yes | Private       | Urban | 171.23 | 34.4 | smokes          | 1 |\n|  1665 | Female | 79 | 1 | 0 | Yes | Self-employed | Rural | 174.12 | 24   | never smoked    | 1 |\n| 56669 | Male   | 81 | 0 | 0 | Yes | Private       | Urban | 186.21 | 29   | formerly smoked | 1 |\n| 53882 | Male   | 74 | 1 | 1 | Yes | Private       | Rural |  70.09 | 27.4 | never smoked    | 1 |\n| 10434 | Female | 69 | 0 | 0 | No  | Private       | Urban |  94.39 | 22.8 | never smoked    | 1 |\n| 27419 | Female | 59 | 0 | 0 | Yes | Private       | Rural |  76.15 | N/A  | Unknown         | 1 |\n| 60491 | Female | 78 | 0 | 0 | Yes | Private       | Urban |  58.57 | 24.2 | Unknown         | 1 |\n| 12109 | Female | 81 | 1 | 0 | Yes | Private       | Rural |  80.43 | 29.7 | never smoked    | 1 |\n| 12095 | Female | 61 | 0 | 1 | Yes | Govt_job      | Rural | 120.46 | 36.8 | smokes          | 1 |\n| 12175 | Female | 54 | 0 | 0 | Yes | Private       | Urban | 104.51 | 27.3 | smokes          | 1 |\n|  8213 | Male   | 78 | 0 | 1 | Yes | Private       | Urban | 219.84 | N/A  | Unknown         | 1 |\n|  5317 | Female | 79 | 0 | 1 | Yes | Private       | Urban | 214.09 | 28.2 | never smoked    | 1 |\n| 58202 | Female | 50 | 1 | 0 | Yes | Self-employed | Rural | 167.41 | 30.9 | never smoked    | 1 |\n| 56112 | Male   | 64 | 0 | 1 | Yes | Private       | Urban | 191.61 | 37.5 | smokes          | 1 |\n| 34120 | Male   | 75 | 1 | 0 | Yes | Private       | Urban | 221.29 | 25.8 | smokes          | 1 |\n| 27458 | Female | 60 | 0 | 0 | No  | Private       | Urban |  89.22 | 37.8 | never smoked    | 1 |\n| 25226 | Male   | 57 | 0 | 1 | No  | Govt_job      | Urban | 217.08 | N/A  | Unknown         | 1 |\n| 70630 | Female | 71 | 0 | 0 | Yes | Govt_job      | Rural | 193.94 | 22.4 | smokes          | 1 |\n| 13861 | Female | 52 | 1 | 0 | Yes | Self-employed | Urban | 233.29 | 48.9 | never smoked    | 1 |\n| 68794 | Female | 79 | 0 | 0 | Yes | Self-employed | Urban | 228.70 | 26.6 | never smoked    | 1 |\n| 64778 | Male   | 82 | 0 | 1 | Yes | Private       | Rural | 208.30 | 32.5 | Unknown         | 1 |\n|  4219 | Male   | 71 | 0 | 0 | Yes | Private       | Urban | 102.87 | 27.2 | formerly smoked | 1 |\n| 70822 | Male   | 80 | 0 | 0 | Yes | Self-employed | Rural | 104.12 | 23.5 | never smoked    | 1 |\n| 38047 | Female | 65 | 0 | 0 | Yes | Private       | Rural | 100.98 | 28.2 | formerly smoked | 1 |\n| 61843 | Male   | 58 | 0 | 0 | Yes | Private       | Rural | 189.84 | N/A  | Unknown         | 1 |\n| 54827 | Male   | 69 | 0 | 1 | Yes | Self-employed | Urban | 195.23 | 28.3 | smokes          | 1 |\n| 69160 | Male   | 59 | 0 | 0 | Yes | Private       | Rural | 211.78 | N/A  | formerly smoked | 1 |\n| ⋮ | ⋮ | ⋮ | ⋮ | ⋮ | ⋮ | ⋮ | ⋮ | ⋮ | ⋮ | ⋮ | ⋮ |\n| 22691 | Female | 29.00 | 0 | 0 | Yes | Self-employed | Urban |  90.52 | 28   | never smoked    | 0 |\n| 37680 | Male   | 55.00 | 0 | 0 | Yes | Govt_job      | Rural | 108.35 | 40.8 | formerly smoked | 0 |\n| 24552 | Female | 44.00 | 0 | 0 | Yes | Private       | Rural |  72.03 | 37.5 | smokes          | 0 |\n| 72914 | Female | 19.00 | 0 | 0 | No  | Private       | Urban |  90.57 | 24.2 | Unknown         | 0 |\n| 29540 | Male   | 67.00 | 0 | 0 | Yes | Private       | Rural |  97.04 | 26.9 | smokes          | 0 |\n| 53525 | Female | 72.00 | 0 | 0 | Yes | Private       | Urban |  83.89 | 33.1 | formerly smoked | 0 |\n| 65411 | Female | 51.00 | 0 | 0 | Yes | Private       | Urban | 152.56 | 21.8 | Unknown         | 0 |\n| 26214 | Female | 63.00 | 0 | 0 | Yes | Self-employed | Rural |  75.93 | 34.7 | formerly smoked | 0 |\n| 22190 | Female | 64.00 | 1 | 0 | Yes | Self-employed | Urban |  76.89 | 30.2 | Unknown         | 0 |\n| 56714 | Female |  0.72 | 0 | 0 | No  | children      | Rural |  62.13 | 16.8 | Unknown         | 0 |\n|  4211 | Male   | 26.00 | 0 | 0 | No  | Govt_job      | Rural | 100.85 | 21   | smokes          | 0 |\n|  6369 | Male   | 59.00 | 1 | 0 | Yes | Private       | Rural |  95.05 | 30.9 | never smoked    | 0 |\n| 56799 | Male   | 76.00 | 0 | 0 | Yes | Govt_job      | Urban |  82.35 | 38.9 | never smoked    | 0 |\n| 32235 | Female | 45.00 | 1 | 0 | Yes | Govt_job      | Rural |  95.02 | N/A  | smokes          | 0 |\n| 28048 | Male   | 13.00 | 0 | 0 | No  | children      | Urban |  82.38 | 24.3 | Unknown         | 0 |\n| 68598 | Male   |  1.08 | 0 | 0 | No  | children      | Rural |  79.15 | 17.4 | Unknown         | 0 |\n| 41512 | Male   | 57.00 | 0 | 0 | Yes | Govt_job      | Rural |  76.62 | 28.2 | never smoked    | 0 |\n| 64520 | Male   | 68.00 | 0 | 0 | Yes | Self-employed | Urban |  91.68 | 40.8 | Unknown         | 0 |\n|   579 | Male   |  9.00 | 0 | 0 | No  | children      | Urban |  71.88 | 17.5 | Unknown         | 0 |\n|  7293 | Male   | 40.00 | 0 | 0 | Yes | Private       | Rural |  83.94 | N/A  | smokes          | 0 |\n| 68398 | Male   | 82.00 | 1 | 0 | Yes | Self-employed | Rural |  71.97 | 28.3 | never smoked    | 0 |\n| 36901 | Female | 45.00 | 0 | 0 | Yes | Private       | Urban |  97.95 | 24.5 | Unknown         | 0 |\n| 45010 | Female | 57.00 | 0 | 0 | Yes | Private       | Rural |  77.93 | 21.7 | never smoked    | 0 |\n| 22127 | Female | 18.00 | 0 | 0 | No  | Private       | Urban |  82.85 | 46.9 | Unknown         | 0 |\n| 14180 | Female | 13.00 | 0 | 0 | No  | children      | Rural | 103.08 | 18.6 | Unknown         | 0 |\n| 18234 | Female | 80.00 | 1 | 0 | Yes | Private       | Urban |  83.75 | N/A  | never smoked    | 0 |\n| 44873 | Female | 81.00 | 0 | 0 | Yes | Self-employed | Urban | 125.20 | 40   | never smoked    | 0 |\n| 19723 | Female | 35.00 | 0 | 0 | Yes | Self-employed | Rural |  82.99 | 30.6 | never smoked    | 0 |\n| 37544 | Male   | 51.00 | 0 | 0 | Yes | Private       | Rural | 166.29 | 25.6 | formerly smoked | 0 |\n| 44679 | Female | 44.00 | 0 | 0 | Yes | Govt_job      | Urban |  85.28 | 26.2 | Unknown         | 0 |\n\n",
            "text/html": [
              "<table class=\"dataframe\">\n",
              "<caption>A data.frame: 5110 × 12</caption>\n",
              "<thead>\n",
              "\t<tr><th scope=col>id</th><th scope=col>gender</th><th scope=col>age</th><th scope=col>hypertension</th><th scope=col>heart_disease</th><th scope=col>ever_married</th><th scope=col>work_type</th><th scope=col>Residence_type</th><th scope=col>avg_glucose_level</th><th scope=col>bmi</th><th scope=col>smoking_status</th><th scope=col>stroke</th></tr>\n",
              "\t<tr><th scope=col>&lt;int&gt;</th><th scope=col>&lt;chr&gt;</th><th scope=col>&lt;dbl&gt;</th><th scope=col>&lt;int&gt;</th><th scope=col>&lt;int&gt;</th><th scope=col>&lt;chr&gt;</th><th scope=col>&lt;chr&gt;</th><th scope=col>&lt;chr&gt;</th><th scope=col>&lt;dbl&gt;</th><th scope=col>&lt;chr&gt;</th><th scope=col>&lt;chr&gt;</th><th scope=col>&lt;int&gt;</th></tr>\n",
              "</thead>\n",
              "<tbody>\n",
              "\t<tr><td> 9046</td><td>Male  </td><td>67</td><td>0</td><td>1</td><td>Yes</td><td>Private      </td><td>Urban</td><td>228.69</td><td>36.6</td><td>formerly smoked</td><td>1</td></tr>\n",
              "\t<tr><td>51676</td><td>Female</td><td>61</td><td>0</td><td>0</td><td>Yes</td><td>Self-employed</td><td>Rural</td><td>202.21</td><td>N/A </td><td>never smoked   </td><td>1</td></tr>\n",
              "\t<tr><td>31112</td><td>Male  </td><td>80</td><td>0</td><td>1</td><td>Yes</td><td>Private      </td><td>Rural</td><td>105.92</td><td>32.5</td><td>never smoked   </td><td>1</td></tr>\n",
              "\t<tr><td>60182</td><td>Female</td><td>49</td><td>0</td><td>0</td><td>Yes</td><td>Private      </td><td>Urban</td><td>171.23</td><td>34.4</td><td>smokes         </td><td>1</td></tr>\n",
              "\t<tr><td> 1665</td><td>Female</td><td>79</td><td>1</td><td>0</td><td>Yes</td><td>Self-employed</td><td>Rural</td><td>174.12</td><td>24  </td><td>never smoked   </td><td>1</td></tr>\n",
              "\t<tr><td>56669</td><td>Male  </td><td>81</td><td>0</td><td>0</td><td>Yes</td><td>Private      </td><td>Urban</td><td>186.21</td><td>29  </td><td>formerly smoked</td><td>1</td></tr>\n",
              "\t<tr><td>53882</td><td>Male  </td><td>74</td><td>1</td><td>1</td><td>Yes</td><td>Private      </td><td>Rural</td><td> 70.09</td><td>27.4</td><td>never smoked   </td><td>1</td></tr>\n",
              "\t<tr><td>10434</td><td>Female</td><td>69</td><td>0</td><td>0</td><td>No </td><td>Private      </td><td>Urban</td><td> 94.39</td><td>22.8</td><td>never smoked   </td><td>1</td></tr>\n",
              "\t<tr><td>27419</td><td>Female</td><td>59</td><td>0</td><td>0</td><td>Yes</td><td>Private      </td><td>Rural</td><td> 76.15</td><td>N/A </td><td>Unknown        </td><td>1</td></tr>\n",
              "\t<tr><td>60491</td><td>Female</td><td>78</td><td>0</td><td>0</td><td>Yes</td><td>Private      </td><td>Urban</td><td> 58.57</td><td>24.2</td><td>Unknown        </td><td>1</td></tr>\n",
              "\t<tr><td>12109</td><td>Female</td><td>81</td><td>1</td><td>0</td><td>Yes</td><td>Private      </td><td>Rural</td><td> 80.43</td><td>29.7</td><td>never smoked   </td><td>1</td></tr>\n",
              "\t<tr><td>12095</td><td>Female</td><td>61</td><td>0</td><td>1</td><td>Yes</td><td>Govt_job     </td><td>Rural</td><td>120.46</td><td>36.8</td><td>smokes         </td><td>1</td></tr>\n",
              "\t<tr><td>12175</td><td>Female</td><td>54</td><td>0</td><td>0</td><td>Yes</td><td>Private      </td><td>Urban</td><td>104.51</td><td>27.3</td><td>smokes         </td><td>1</td></tr>\n",
              "\t<tr><td> 8213</td><td>Male  </td><td>78</td><td>0</td><td>1</td><td>Yes</td><td>Private      </td><td>Urban</td><td>219.84</td><td>N/A </td><td>Unknown        </td><td>1</td></tr>\n",
              "\t<tr><td> 5317</td><td>Female</td><td>79</td><td>0</td><td>1</td><td>Yes</td><td>Private      </td><td>Urban</td><td>214.09</td><td>28.2</td><td>never smoked   </td><td>1</td></tr>\n",
              "\t<tr><td>58202</td><td>Female</td><td>50</td><td>1</td><td>0</td><td>Yes</td><td>Self-employed</td><td>Rural</td><td>167.41</td><td>30.9</td><td>never smoked   </td><td>1</td></tr>\n",
              "\t<tr><td>56112</td><td>Male  </td><td>64</td><td>0</td><td>1</td><td>Yes</td><td>Private      </td><td>Urban</td><td>191.61</td><td>37.5</td><td>smokes         </td><td>1</td></tr>\n",
              "\t<tr><td>34120</td><td>Male  </td><td>75</td><td>1</td><td>0</td><td>Yes</td><td>Private      </td><td>Urban</td><td>221.29</td><td>25.8</td><td>smokes         </td><td>1</td></tr>\n",
              "\t<tr><td>27458</td><td>Female</td><td>60</td><td>0</td><td>0</td><td>No </td><td>Private      </td><td>Urban</td><td> 89.22</td><td>37.8</td><td>never smoked   </td><td>1</td></tr>\n",
              "\t<tr><td>25226</td><td>Male  </td><td>57</td><td>0</td><td>1</td><td>No </td><td>Govt_job     </td><td>Urban</td><td>217.08</td><td>N/A </td><td>Unknown        </td><td>1</td></tr>\n",
              "\t<tr><td>70630</td><td>Female</td><td>71</td><td>0</td><td>0</td><td>Yes</td><td>Govt_job     </td><td>Rural</td><td>193.94</td><td>22.4</td><td>smokes         </td><td>1</td></tr>\n",
              "\t<tr><td>13861</td><td>Female</td><td>52</td><td>1</td><td>0</td><td>Yes</td><td>Self-employed</td><td>Urban</td><td>233.29</td><td>48.9</td><td>never smoked   </td><td>1</td></tr>\n",
              "\t<tr><td>68794</td><td>Female</td><td>79</td><td>0</td><td>0</td><td>Yes</td><td>Self-employed</td><td>Urban</td><td>228.70</td><td>26.6</td><td>never smoked   </td><td>1</td></tr>\n",
              "\t<tr><td>64778</td><td>Male  </td><td>82</td><td>0</td><td>1</td><td>Yes</td><td>Private      </td><td>Rural</td><td>208.30</td><td>32.5</td><td>Unknown        </td><td>1</td></tr>\n",
              "\t<tr><td> 4219</td><td>Male  </td><td>71</td><td>0</td><td>0</td><td>Yes</td><td>Private      </td><td>Urban</td><td>102.87</td><td>27.2</td><td>formerly smoked</td><td>1</td></tr>\n",
              "\t<tr><td>70822</td><td>Male  </td><td>80</td><td>0</td><td>0</td><td>Yes</td><td>Self-employed</td><td>Rural</td><td>104.12</td><td>23.5</td><td>never smoked   </td><td>1</td></tr>\n",
              "\t<tr><td>38047</td><td>Female</td><td>65</td><td>0</td><td>0</td><td>Yes</td><td>Private      </td><td>Rural</td><td>100.98</td><td>28.2</td><td>formerly smoked</td><td>1</td></tr>\n",
              "\t<tr><td>61843</td><td>Male  </td><td>58</td><td>0</td><td>0</td><td>Yes</td><td>Private      </td><td>Rural</td><td>189.84</td><td>N/A </td><td>Unknown        </td><td>1</td></tr>\n",
              "\t<tr><td>54827</td><td>Male  </td><td>69</td><td>0</td><td>1</td><td>Yes</td><td>Self-employed</td><td>Urban</td><td>195.23</td><td>28.3</td><td>smokes         </td><td>1</td></tr>\n",
              "\t<tr><td>69160</td><td>Male  </td><td>59</td><td>0</td><td>0</td><td>Yes</td><td>Private      </td><td>Rural</td><td>211.78</td><td>N/A </td><td>formerly smoked</td><td>1</td></tr>\n",
              "\t<tr><td>⋮</td><td>⋮</td><td>⋮</td><td>⋮</td><td>⋮</td><td>⋮</td><td>⋮</td><td>⋮</td><td>⋮</td><td>⋮</td><td>⋮</td><td>⋮</td></tr>\n",
              "\t<tr><td>22691</td><td>Female</td><td>29.00</td><td>0</td><td>0</td><td>Yes</td><td>Self-employed</td><td>Urban</td><td> 90.52</td><td>28  </td><td>never smoked   </td><td>0</td></tr>\n",
              "\t<tr><td>37680</td><td>Male  </td><td>55.00</td><td>0</td><td>0</td><td>Yes</td><td>Govt_job     </td><td>Rural</td><td>108.35</td><td>40.8</td><td>formerly smoked</td><td>0</td></tr>\n",
              "\t<tr><td>24552</td><td>Female</td><td>44.00</td><td>0</td><td>0</td><td>Yes</td><td>Private      </td><td>Rural</td><td> 72.03</td><td>37.5</td><td>smokes         </td><td>0</td></tr>\n",
              "\t<tr><td>72914</td><td>Female</td><td>19.00</td><td>0</td><td>0</td><td>No </td><td>Private      </td><td>Urban</td><td> 90.57</td><td>24.2</td><td>Unknown        </td><td>0</td></tr>\n",
              "\t<tr><td>29540</td><td>Male  </td><td>67.00</td><td>0</td><td>0</td><td>Yes</td><td>Private      </td><td>Rural</td><td> 97.04</td><td>26.9</td><td>smokes         </td><td>0</td></tr>\n",
              "\t<tr><td>53525</td><td>Female</td><td>72.00</td><td>0</td><td>0</td><td>Yes</td><td>Private      </td><td>Urban</td><td> 83.89</td><td>33.1</td><td>formerly smoked</td><td>0</td></tr>\n",
              "\t<tr><td>65411</td><td>Female</td><td>51.00</td><td>0</td><td>0</td><td>Yes</td><td>Private      </td><td>Urban</td><td>152.56</td><td>21.8</td><td>Unknown        </td><td>0</td></tr>\n",
              "\t<tr><td>26214</td><td>Female</td><td>63.00</td><td>0</td><td>0</td><td>Yes</td><td>Self-employed</td><td>Rural</td><td> 75.93</td><td>34.7</td><td>formerly smoked</td><td>0</td></tr>\n",
              "\t<tr><td>22190</td><td>Female</td><td>64.00</td><td>1</td><td>0</td><td>Yes</td><td>Self-employed</td><td>Urban</td><td> 76.89</td><td>30.2</td><td>Unknown        </td><td>0</td></tr>\n",
              "\t<tr><td>56714</td><td>Female</td><td> 0.72</td><td>0</td><td>0</td><td>No </td><td>children     </td><td>Rural</td><td> 62.13</td><td>16.8</td><td>Unknown        </td><td>0</td></tr>\n",
              "\t<tr><td> 4211</td><td>Male  </td><td>26.00</td><td>0</td><td>0</td><td>No </td><td>Govt_job     </td><td>Rural</td><td>100.85</td><td>21  </td><td>smokes         </td><td>0</td></tr>\n",
              "\t<tr><td> 6369</td><td>Male  </td><td>59.00</td><td>1</td><td>0</td><td>Yes</td><td>Private      </td><td>Rural</td><td> 95.05</td><td>30.9</td><td>never smoked   </td><td>0</td></tr>\n",
              "\t<tr><td>56799</td><td>Male  </td><td>76.00</td><td>0</td><td>0</td><td>Yes</td><td>Govt_job     </td><td>Urban</td><td> 82.35</td><td>38.9</td><td>never smoked   </td><td>0</td></tr>\n",
              "\t<tr><td>32235</td><td>Female</td><td>45.00</td><td>1</td><td>0</td><td>Yes</td><td>Govt_job     </td><td>Rural</td><td> 95.02</td><td>N/A </td><td>smokes         </td><td>0</td></tr>\n",
              "\t<tr><td>28048</td><td>Male  </td><td>13.00</td><td>0</td><td>0</td><td>No </td><td>children     </td><td>Urban</td><td> 82.38</td><td>24.3</td><td>Unknown        </td><td>0</td></tr>\n",
              "\t<tr><td>68598</td><td>Male  </td><td> 1.08</td><td>0</td><td>0</td><td>No </td><td>children     </td><td>Rural</td><td> 79.15</td><td>17.4</td><td>Unknown        </td><td>0</td></tr>\n",
              "\t<tr><td>41512</td><td>Male  </td><td>57.00</td><td>0</td><td>0</td><td>Yes</td><td>Govt_job     </td><td>Rural</td><td> 76.62</td><td>28.2</td><td>never smoked   </td><td>0</td></tr>\n",
              "\t<tr><td>64520</td><td>Male  </td><td>68.00</td><td>0</td><td>0</td><td>Yes</td><td>Self-employed</td><td>Urban</td><td> 91.68</td><td>40.8</td><td>Unknown        </td><td>0</td></tr>\n",
              "\t<tr><td>  579</td><td>Male  </td><td> 9.00</td><td>0</td><td>0</td><td>No </td><td>children     </td><td>Urban</td><td> 71.88</td><td>17.5</td><td>Unknown        </td><td>0</td></tr>\n",
              "\t<tr><td> 7293</td><td>Male  </td><td>40.00</td><td>0</td><td>0</td><td>Yes</td><td>Private      </td><td>Rural</td><td> 83.94</td><td>N/A </td><td>smokes         </td><td>0</td></tr>\n",
              "\t<tr><td>68398</td><td>Male  </td><td>82.00</td><td>1</td><td>0</td><td>Yes</td><td>Self-employed</td><td>Rural</td><td> 71.97</td><td>28.3</td><td>never smoked   </td><td>0</td></tr>\n",
              "\t<tr><td>36901</td><td>Female</td><td>45.00</td><td>0</td><td>0</td><td>Yes</td><td>Private      </td><td>Urban</td><td> 97.95</td><td>24.5</td><td>Unknown        </td><td>0</td></tr>\n",
              "\t<tr><td>45010</td><td>Female</td><td>57.00</td><td>0</td><td>0</td><td>Yes</td><td>Private      </td><td>Rural</td><td> 77.93</td><td>21.7</td><td>never smoked   </td><td>0</td></tr>\n",
              "\t<tr><td>22127</td><td>Female</td><td>18.00</td><td>0</td><td>0</td><td>No </td><td>Private      </td><td>Urban</td><td> 82.85</td><td>46.9</td><td>Unknown        </td><td>0</td></tr>\n",
              "\t<tr><td>14180</td><td>Female</td><td>13.00</td><td>0</td><td>0</td><td>No </td><td>children     </td><td>Rural</td><td>103.08</td><td>18.6</td><td>Unknown        </td><td>0</td></tr>\n",
              "\t<tr><td>18234</td><td>Female</td><td>80.00</td><td>1</td><td>0</td><td>Yes</td><td>Private      </td><td>Urban</td><td> 83.75</td><td>N/A </td><td>never smoked   </td><td>0</td></tr>\n",
              "\t<tr><td>44873</td><td>Female</td><td>81.00</td><td>0</td><td>0</td><td>Yes</td><td>Self-employed</td><td>Urban</td><td>125.20</td><td>40  </td><td>never smoked   </td><td>0</td></tr>\n",
              "\t<tr><td>19723</td><td>Female</td><td>35.00</td><td>0</td><td>0</td><td>Yes</td><td>Self-employed</td><td>Rural</td><td> 82.99</td><td>30.6</td><td>never smoked   </td><td>0</td></tr>\n",
              "\t<tr><td>37544</td><td>Male  </td><td>51.00</td><td>0</td><td>0</td><td>Yes</td><td>Private      </td><td>Rural</td><td>166.29</td><td>25.6</td><td>formerly smoked</td><td>0</td></tr>\n",
              "\t<tr><td>44679</td><td>Female</td><td>44.00</td><td>0</td><td>0</td><td>Yes</td><td>Govt_job     </td><td>Urban</td><td> 85.28</td><td>26.2</td><td>Unknown        </td><td>0</td></tr>\n",
              "</tbody>\n",
              "</table>\n"
            ]
          },
          "metadata": {
            "tags": []
          }
        }
      ]
    },
    {
      "cell_type": "code",
      "metadata": {
        "colab": {
          "base_uri": "https://localhost:8080/",
          "height": 370
        },
        "id": "r-bh2XW8pZrK",
        "outputId": "c38fa3da-6fb1-4a53-a55a-8fa3e728ac5c"
      },
      "source": [
        "summary(info)"
      ],
      "execution_count": 8,
      "outputs": [
        {
          "output_type": "display_data",
          "data": {
            "text/plain": [
              "       id           gender               age         hypertension    \n",
              " Min.   :   67   Length:5110        Min.   : 0.08   Min.   :0.00000  \n",
              " 1st Qu.:17741   Class :character   1st Qu.:25.00   1st Qu.:0.00000  \n",
              " Median :36932   Mode  :character   Median :45.00   Median :0.00000  \n",
              " Mean   :36518                      Mean   :43.23   Mean   :0.09746  \n",
              " 3rd Qu.:54682                      3rd Qu.:61.00   3rd Qu.:0.00000  \n",
              " Max.   :72940                      Max.   :82.00   Max.   :1.00000  \n",
              " heart_disease     ever_married        work_type         Residence_type    \n",
              " Min.   :0.00000   Length:5110        Length:5110        Length:5110       \n",
              " 1st Qu.:0.00000   Class :character   Class :character   Class :character  \n",
              " Median :0.00000   Mode  :character   Mode  :character   Mode  :character  \n",
              " Mean   :0.05401                                                           \n",
              " 3rd Qu.:0.00000                                                           \n",
              " Max.   :1.00000                                                           \n",
              " avg_glucose_level     bmi            smoking_status         stroke       \n",
              " Min.   : 55.12    Length:5110        Length:5110        Min.   :0.00000  \n",
              " 1st Qu.: 77.25    Class :character   Class :character   1st Qu.:0.00000  \n",
              " Median : 91.89    Mode  :character   Mode  :character   Median :0.00000  \n",
              " Mean   :106.15                                          Mean   :0.04873  \n",
              " 3rd Qu.:114.09                                          3rd Qu.:0.00000  \n",
              " Max.   :271.74                                          Max.   :1.00000  "
            ]
          },
          "metadata": {
            "tags": []
          }
        }
      ]
    },
    {
      "cell_type": "code",
      "metadata": {
        "colab": {
          "base_uri": "https://localhost:8080/",
          "height": 1000
        },
        "id": "LjTsE01tqycm",
        "outputId": "f3f7a96b-3771-40e3-b5eb-6b7e4f64b90e"
      },
      "source": [
        "info[c(\"age\")]"
      ],
      "execution_count": 9,
      "outputs": [
        {
          "output_type": "display_data",
          "data": {
            "text/plain": [
              "     age  \n",
              "1    67   \n",
              "2    61   \n",
              "3    80   \n",
              "4    49   \n",
              "5    79   \n",
              "6    81   \n",
              "7    74   \n",
              "8    69   \n",
              "9    59   \n",
              "10   78   \n",
              "11   81   \n",
              "12   61   \n",
              "13   54   \n",
              "14   78   \n",
              "15   79   \n",
              "16   50   \n",
              "17   64   \n",
              "18   75   \n",
              "19   60   \n",
              "20   57   \n",
              "21   71   \n",
              "22   52   \n",
              "23   79   \n",
              "24   82   \n",
              "25   71   \n",
              "26   80   \n",
              "27   65   \n",
              "28   58   \n",
              "29   69   \n",
              "30   59   \n",
              "⋮    ⋮    \n",
              "5081 29.00\n",
              "5082 55.00\n",
              "5083 44.00\n",
              "5084 19.00\n",
              "5085 67.00\n",
              "5086 72.00\n",
              "5087 51.00\n",
              "5088 63.00\n",
              "5089 64.00\n",
              "5090  0.72\n",
              "5091 26.00\n",
              "5092 59.00\n",
              "5093 76.00\n",
              "5094 45.00\n",
              "5095 13.00\n",
              "5096  1.08\n",
              "5097 57.00\n",
              "5098 68.00\n",
              "5099  9.00\n",
              "5100 40.00\n",
              "5101 82.00\n",
              "5102 45.00\n",
              "5103 57.00\n",
              "5104 18.00\n",
              "5105 13.00\n",
              "5106 80.00\n",
              "5107 81.00\n",
              "5108 35.00\n",
              "5109 51.00\n",
              "5110 44.00"
            ],
            "text/latex": "A data.frame: 5110 × 1\n\\begin{tabular}{l}\n age\\\\\n <dbl>\\\\\n\\hline\n\t 67\\\\\n\t 61\\\\\n\t 80\\\\\n\t 49\\\\\n\t 79\\\\\n\t 81\\\\\n\t 74\\\\\n\t 69\\\\\n\t 59\\\\\n\t 78\\\\\n\t 81\\\\\n\t 61\\\\\n\t 54\\\\\n\t 78\\\\\n\t 79\\\\\n\t 50\\\\\n\t 64\\\\\n\t 75\\\\\n\t 60\\\\\n\t 57\\\\\n\t 71\\\\\n\t 52\\\\\n\t 79\\\\\n\t 82\\\\\n\t 71\\\\\n\t 80\\\\\n\t 65\\\\\n\t 58\\\\\n\t 69\\\\\n\t 59\\\\\n\t ⋮\\\\\n\t 29.00\\\\\n\t 55.00\\\\\n\t 44.00\\\\\n\t 19.00\\\\\n\t 67.00\\\\\n\t 72.00\\\\\n\t 51.00\\\\\n\t 63.00\\\\\n\t 64.00\\\\\n\t  0.72\\\\\n\t 26.00\\\\\n\t 59.00\\\\\n\t 76.00\\\\\n\t 45.00\\\\\n\t 13.00\\\\\n\t  1.08\\\\\n\t 57.00\\\\\n\t 68.00\\\\\n\t  9.00\\\\\n\t 40.00\\\\\n\t 82.00\\\\\n\t 45.00\\\\\n\t 57.00\\\\\n\t 18.00\\\\\n\t 13.00\\\\\n\t 80.00\\\\\n\t 81.00\\\\\n\t 35.00\\\\\n\t 51.00\\\\\n\t 44.00\\\\\n\\end{tabular}\n",
            "text/markdown": "\nA data.frame: 5110 × 1\n\n| age &lt;dbl&gt; |\n|---|\n| 67 |\n| 61 |\n| 80 |\n| 49 |\n| 79 |\n| 81 |\n| 74 |\n| 69 |\n| 59 |\n| 78 |\n| 81 |\n| 61 |\n| 54 |\n| 78 |\n| 79 |\n| 50 |\n| 64 |\n| 75 |\n| 60 |\n| 57 |\n| 71 |\n| 52 |\n| 79 |\n| 82 |\n| 71 |\n| 80 |\n| 65 |\n| 58 |\n| 69 |\n| 59 |\n| ⋮ |\n| 29.00 |\n| 55.00 |\n| 44.00 |\n| 19.00 |\n| 67.00 |\n| 72.00 |\n| 51.00 |\n| 63.00 |\n| 64.00 |\n|  0.72 |\n| 26.00 |\n| 59.00 |\n| 76.00 |\n| 45.00 |\n| 13.00 |\n|  1.08 |\n| 57.00 |\n| 68.00 |\n|  9.00 |\n| 40.00 |\n| 82.00 |\n| 45.00 |\n| 57.00 |\n| 18.00 |\n| 13.00 |\n| 80.00 |\n| 81.00 |\n| 35.00 |\n| 51.00 |\n| 44.00 |\n\n",
            "text/html": [
              "<table class=\"dataframe\">\n",
              "<caption>A data.frame: 5110 × 1</caption>\n",
              "<thead>\n",
              "\t<tr><th scope=col>age</th></tr>\n",
              "\t<tr><th scope=col>&lt;dbl&gt;</th></tr>\n",
              "</thead>\n",
              "<tbody>\n",
              "\t<tr><td>67</td></tr>\n",
              "\t<tr><td>61</td></tr>\n",
              "\t<tr><td>80</td></tr>\n",
              "\t<tr><td>49</td></tr>\n",
              "\t<tr><td>79</td></tr>\n",
              "\t<tr><td>81</td></tr>\n",
              "\t<tr><td>74</td></tr>\n",
              "\t<tr><td>69</td></tr>\n",
              "\t<tr><td>59</td></tr>\n",
              "\t<tr><td>78</td></tr>\n",
              "\t<tr><td>81</td></tr>\n",
              "\t<tr><td>61</td></tr>\n",
              "\t<tr><td>54</td></tr>\n",
              "\t<tr><td>78</td></tr>\n",
              "\t<tr><td>79</td></tr>\n",
              "\t<tr><td>50</td></tr>\n",
              "\t<tr><td>64</td></tr>\n",
              "\t<tr><td>75</td></tr>\n",
              "\t<tr><td>60</td></tr>\n",
              "\t<tr><td>57</td></tr>\n",
              "\t<tr><td>71</td></tr>\n",
              "\t<tr><td>52</td></tr>\n",
              "\t<tr><td>79</td></tr>\n",
              "\t<tr><td>82</td></tr>\n",
              "\t<tr><td>71</td></tr>\n",
              "\t<tr><td>80</td></tr>\n",
              "\t<tr><td>65</td></tr>\n",
              "\t<tr><td>58</td></tr>\n",
              "\t<tr><td>69</td></tr>\n",
              "\t<tr><td>59</td></tr>\n",
              "\t<tr><td>⋮</td></tr>\n",
              "\t<tr><td>29.00</td></tr>\n",
              "\t<tr><td>55.00</td></tr>\n",
              "\t<tr><td>44.00</td></tr>\n",
              "\t<tr><td>19.00</td></tr>\n",
              "\t<tr><td>67.00</td></tr>\n",
              "\t<tr><td>72.00</td></tr>\n",
              "\t<tr><td>51.00</td></tr>\n",
              "\t<tr><td>63.00</td></tr>\n",
              "\t<tr><td>64.00</td></tr>\n",
              "\t<tr><td> 0.72</td></tr>\n",
              "\t<tr><td>26.00</td></tr>\n",
              "\t<tr><td>59.00</td></tr>\n",
              "\t<tr><td>76.00</td></tr>\n",
              "\t<tr><td>45.00</td></tr>\n",
              "\t<tr><td>13.00</td></tr>\n",
              "\t<tr><td> 1.08</td></tr>\n",
              "\t<tr><td>57.00</td></tr>\n",
              "\t<tr><td>68.00</td></tr>\n",
              "\t<tr><td> 9.00</td></tr>\n",
              "\t<tr><td>40.00</td></tr>\n",
              "\t<tr><td>82.00</td></tr>\n",
              "\t<tr><td>45.00</td></tr>\n",
              "\t<tr><td>57.00</td></tr>\n",
              "\t<tr><td>18.00</td></tr>\n",
              "\t<tr><td>13.00</td></tr>\n",
              "\t<tr><td>80.00</td></tr>\n",
              "\t<tr><td>81.00</td></tr>\n",
              "\t<tr><td>35.00</td></tr>\n",
              "\t<tr><td>51.00</td></tr>\n",
              "\t<tr><td>44.00</td></tr>\n",
              "</tbody>\n",
              "</table>\n"
            ]
          },
          "metadata": {
            "tags": []
          }
        }
      ]
    },
    {
      "cell_type": "code",
      "metadata": {
        "colab": {
          "base_uri": "https://localhost:8080/",
          "height": 1000
        },
        "id": "oySKZCoKs6oA",
        "outputId": "4a96980a-85bc-468c-86a9-1e0c46050448"
      },
      "source": [
        "nameAge <-info[c(\"gender\",\"age\")]\n",
        "nameAge"
      ],
      "execution_count": 10,
      "outputs": [
        {
          "output_type": "display_data",
          "data": {
            "text/plain": [
              "     gender age  \n",
              "1    Male   67   \n",
              "2    Female 61   \n",
              "3    Male   80   \n",
              "4    Female 49   \n",
              "5    Female 79   \n",
              "6    Male   81   \n",
              "7    Male   74   \n",
              "8    Female 69   \n",
              "9    Female 59   \n",
              "10   Female 78   \n",
              "11   Female 81   \n",
              "12   Female 61   \n",
              "13   Female 54   \n",
              "14   Male   78   \n",
              "15   Female 79   \n",
              "16   Female 50   \n",
              "17   Male   64   \n",
              "18   Male   75   \n",
              "19   Female 60   \n",
              "20   Male   57   \n",
              "21   Female 71   \n",
              "22   Female 52   \n",
              "23   Female 79   \n",
              "24   Male   82   \n",
              "25   Male   71   \n",
              "26   Male   80   \n",
              "27   Female 65   \n",
              "28   Male   58   \n",
              "29   Male   69   \n",
              "30   Male   59   \n",
              "⋮    ⋮      ⋮    \n",
              "5081 Female 29.00\n",
              "5082 Male   55.00\n",
              "5083 Female 44.00\n",
              "5084 Female 19.00\n",
              "5085 Male   67.00\n",
              "5086 Female 72.00\n",
              "5087 Female 51.00\n",
              "5088 Female 63.00\n",
              "5089 Female 64.00\n",
              "5090 Female  0.72\n",
              "5091 Male   26.00\n",
              "5092 Male   59.00\n",
              "5093 Male   76.00\n",
              "5094 Female 45.00\n",
              "5095 Male   13.00\n",
              "5096 Male    1.08\n",
              "5097 Male   57.00\n",
              "5098 Male   68.00\n",
              "5099 Male    9.00\n",
              "5100 Male   40.00\n",
              "5101 Male   82.00\n",
              "5102 Female 45.00\n",
              "5103 Female 57.00\n",
              "5104 Female 18.00\n",
              "5105 Female 13.00\n",
              "5106 Female 80.00\n",
              "5107 Female 81.00\n",
              "5108 Female 35.00\n",
              "5109 Male   51.00\n",
              "5110 Female 44.00"
            ],
            "text/latex": "A data.frame: 5110 × 2\n\\begin{tabular}{ll}\n gender & age\\\\\n <chr> & <dbl>\\\\\n\\hline\n\t Male   & 67\\\\\n\t Female & 61\\\\\n\t Male   & 80\\\\\n\t Female & 49\\\\\n\t Female & 79\\\\\n\t Male   & 81\\\\\n\t Male   & 74\\\\\n\t Female & 69\\\\\n\t Female & 59\\\\\n\t Female & 78\\\\\n\t Female & 81\\\\\n\t Female & 61\\\\\n\t Female & 54\\\\\n\t Male   & 78\\\\\n\t Female & 79\\\\\n\t Female & 50\\\\\n\t Male   & 64\\\\\n\t Male   & 75\\\\\n\t Female & 60\\\\\n\t Male   & 57\\\\\n\t Female & 71\\\\\n\t Female & 52\\\\\n\t Female & 79\\\\\n\t Male   & 82\\\\\n\t Male   & 71\\\\\n\t Male   & 80\\\\\n\t Female & 65\\\\\n\t Male   & 58\\\\\n\t Male   & 69\\\\\n\t Male   & 59\\\\\n\t ⋮ & ⋮\\\\\n\t Female & 29.00\\\\\n\t Male   & 55.00\\\\\n\t Female & 44.00\\\\\n\t Female & 19.00\\\\\n\t Male   & 67.00\\\\\n\t Female & 72.00\\\\\n\t Female & 51.00\\\\\n\t Female & 63.00\\\\\n\t Female & 64.00\\\\\n\t Female &  0.72\\\\\n\t Male   & 26.00\\\\\n\t Male   & 59.00\\\\\n\t Male   & 76.00\\\\\n\t Female & 45.00\\\\\n\t Male   & 13.00\\\\\n\t Male   &  1.08\\\\\n\t Male   & 57.00\\\\\n\t Male   & 68.00\\\\\n\t Male   &  9.00\\\\\n\t Male   & 40.00\\\\\n\t Male   & 82.00\\\\\n\t Female & 45.00\\\\\n\t Female & 57.00\\\\\n\t Female & 18.00\\\\\n\t Female & 13.00\\\\\n\t Female & 80.00\\\\\n\t Female & 81.00\\\\\n\t Female & 35.00\\\\\n\t Male   & 51.00\\\\\n\t Female & 44.00\\\\\n\\end{tabular}\n",
            "text/markdown": "\nA data.frame: 5110 × 2\n\n| gender &lt;chr&gt; | age &lt;dbl&gt; |\n|---|---|\n| Male   | 67 |\n| Female | 61 |\n| Male   | 80 |\n| Female | 49 |\n| Female | 79 |\n| Male   | 81 |\n| Male   | 74 |\n| Female | 69 |\n| Female | 59 |\n| Female | 78 |\n| Female | 81 |\n| Female | 61 |\n| Female | 54 |\n| Male   | 78 |\n| Female | 79 |\n| Female | 50 |\n| Male   | 64 |\n| Male   | 75 |\n| Female | 60 |\n| Male   | 57 |\n| Female | 71 |\n| Female | 52 |\n| Female | 79 |\n| Male   | 82 |\n| Male   | 71 |\n| Male   | 80 |\n| Female | 65 |\n| Male   | 58 |\n| Male   | 69 |\n| Male   | 59 |\n| ⋮ | ⋮ |\n| Female | 29.00 |\n| Male   | 55.00 |\n| Female | 44.00 |\n| Female | 19.00 |\n| Male   | 67.00 |\n| Female | 72.00 |\n| Female | 51.00 |\n| Female | 63.00 |\n| Female | 64.00 |\n| Female |  0.72 |\n| Male   | 26.00 |\n| Male   | 59.00 |\n| Male   | 76.00 |\n| Female | 45.00 |\n| Male   | 13.00 |\n| Male   |  1.08 |\n| Male   | 57.00 |\n| Male   | 68.00 |\n| Male   |  9.00 |\n| Male   | 40.00 |\n| Male   | 82.00 |\n| Female | 45.00 |\n| Female | 57.00 |\n| Female | 18.00 |\n| Female | 13.00 |\n| Female | 80.00 |\n| Female | 81.00 |\n| Female | 35.00 |\n| Male   | 51.00 |\n| Female | 44.00 |\n\n",
            "text/html": [
              "<table class=\"dataframe\">\n",
              "<caption>A data.frame: 5110 × 2</caption>\n",
              "<thead>\n",
              "\t<tr><th scope=col>gender</th><th scope=col>age</th></tr>\n",
              "\t<tr><th scope=col>&lt;chr&gt;</th><th scope=col>&lt;dbl&gt;</th></tr>\n",
              "</thead>\n",
              "<tbody>\n",
              "\t<tr><td>Male  </td><td>67</td></tr>\n",
              "\t<tr><td>Female</td><td>61</td></tr>\n",
              "\t<tr><td>Male  </td><td>80</td></tr>\n",
              "\t<tr><td>Female</td><td>49</td></tr>\n",
              "\t<tr><td>Female</td><td>79</td></tr>\n",
              "\t<tr><td>Male  </td><td>81</td></tr>\n",
              "\t<tr><td>Male  </td><td>74</td></tr>\n",
              "\t<tr><td>Female</td><td>69</td></tr>\n",
              "\t<tr><td>Female</td><td>59</td></tr>\n",
              "\t<tr><td>Female</td><td>78</td></tr>\n",
              "\t<tr><td>Female</td><td>81</td></tr>\n",
              "\t<tr><td>Female</td><td>61</td></tr>\n",
              "\t<tr><td>Female</td><td>54</td></tr>\n",
              "\t<tr><td>Male  </td><td>78</td></tr>\n",
              "\t<tr><td>Female</td><td>79</td></tr>\n",
              "\t<tr><td>Female</td><td>50</td></tr>\n",
              "\t<tr><td>Male  </td><td>64</td></tr>\n",
              "\t<tr><td>Male  </td><td>75</td></tr>\n",
              "\t<tr><td>Female</td><td>60</td></tr>\n",
              "\t<tr><td>Male  </td><td>57</td></tr>\n",
              "\t<tr><td>Female</td><td>71</td></tr>\n",
              "\t<tr><td>Female</td><td>52</td></tr>\n",
              "\t<tr><td>Female</td><td>79</td></tr>\n",
              "\t<tr><td>Male  </td><td>82</td></tr>\n",
              "\t<tr><td>Male  </td><td>71</td></tr>\n",
              "\t<tr><td>Male  </td><td>80</td></tr>\n",
              "\t<tr><td>Female</td><td>65</td></tr>\n",
              "\t<tr><td>Male  </td><td>58</td></tr>\n",
              "\t<tr><td>Male  </td><td>69</td></tr>\n",
              "\t<tr><td>Male  </td><td>59</td></tr>\n",
              "\t<tr><td>⋮</td><td>⋮</td></tr>\n",
              "\t<tr><td>Female</td><td>29.00</td></tr>\n",
              "\t<tr><td>Male  </td><td>55.00</td></tr>\n",
              "\t<tr><td>Female</td><td>44.00</td></tr>\n",
              "\t<tr><td>Female</td><td>19.00</td></tr>\n",
              "\t<tr><td>Male  </td><td>67.00</td></tr>\n",
              "\t<tr><td>Female</td><td>72.00</td></tr>\n",
              "\t<tr><td>Female</td><td>51.00</td></tr>\n",
              "\t<tr><td>Female</td><td>63.00</td></tr>\n",
              "\t<tr><td>Female</td><td>64.00</td></tr>\n",
              "\t<tr><td>Female</td><td> 0.72</td></tr>\n",
              "\t<tr><td>Male  </td><td>26.00</td></tr>\n",
              "\t<tr><td>Male  </td><td>59.00</td></tr>\n",
              "\t<tr><td>Male  </td><td>76.00</td></tr>\n",
              "\t<tr><td>Female</td><td>45.00</td></tr>\n",
              "\t<tr><td>Male  </td><td>13.00</td></tr>\n",
              "\t<tr><td>Male  </td><td> 1.08</td></tr>\n",
              "\t<tr><td>Male  </td><td>57.00</td></tr>\n",
              "\t<tr><td>Male  </td><td>68.00</td></tr>\n",
              "\t<tr><td>Male  </td><td> 9.00</td></tr>\n",
              "\t<tr><td>Male  </td><td>40.00</td></tr>\n",
              "\t<tr><td>Male  </td><td>82.00</td></tr>\n",
              "\t<tr><td>Female</td><td>45.00</td></tr>\n",
              "\t<tr><td>Female</td><td>57.00</td></tr>\n",
              "\t<tr><td>Female</td><td>18.00</td></tr>\n",
              "\t<tr><td>Female</td><td>13.00</td></tr>\n",
              "\t<tr><td>Female</td><td>80.00</td></tr>\n",
              "\t<tr><td>Female</td><td>81.00</td></tr>\n",
              "\t<tr><td>Female</td><td>35.00</td></tr>\n",
              "\t<tr><td>Male  </td><td>51.00</td></tr>\n",
              "\t<tr><td>Female</td><td>44.00</td></tr>\n",
              "</tbody>\n",
              "</table>\n"
            ]
          },
          "metadata": {
            "tags": []
          }
        }
      ]
    },
    {
      "cell_type": "code",
      "metadata": {
        "id": "sLILJu_9tVzt"
      },
      "source": [
        "Nseries = function(n,m){\n",
        "  a=n+m\n",
        "  info[n:a,]\n",
        "}"
      ],
      "execution_count": 14,
      "outputs": []
    },
    {
      "cell_type": "code",
      "metadata": {
        "colab": {
          "base_uri": "https://localhost:8080/",
          "height": 212
        },
        "id": "jy6TvR7Ztpbh",
        "outputId": "2c6e7939-1919-4acb-9dd2-59867562517d"
      },
      "source": [
        "Nseries(2,3)"
      ],
      "execution_count": 15,
      "outputs": [
        {
          "output_type": "display_data",
          "data": {
            "text/plain": [
              "  id    gender age hypertension heart_disease ever_married work_type    \n",
              "2 51676 Female 61  0            0             Yes          Self-employed\n",
              "3 31112 Male   80  0            1             Yes          Private      \n",
              "4 60182 Female 49  0            0             Yes          Private      \n",
              "5  1665 Female 79  1            0             Yes          Self-employed\n",
              "  Residence_type avg_glucose_level bmi  smoking_status stroke\n",
              "2 Rural          202.21            N/A  never smoked   1     \n",
              "3 Rural          105.92            32.5 never smoked   1     \n",
              "4 Urban          171.23            34.4 smokes         1     \n",
              "5 Rural          174.12            24   never smoked   1     "
            ],
            "text/latex": "A data.frame: 4 × 12\n\\begin{tabular}{r|llllllllllll}\n  & id & gender & age & hypertension & heart\\_disease & ever\\_married & work\\_type & Residence\\_type & avg\\_glucose\\_level & bmi & smoking\\_status & stroke\\\\\n  & <int> & <chr> & <dbl> & <int> & <int> & <chr> & <chr> & <chr> & <dbl> & <chr> & <chr> & <int>\\\\\n\\hline\n\t2 & 51676 & Female & 61 & 0 & 0 & Yes & Self-employed & Rural & 202.21 & N/A  & never smoked & 1\\\\\n\t3 & 31112 & Male   & 80 & 0 & 1 & Yes & Private       & Rural & 105.92 & 32.5 & never smoked & 1\\\\\n\t4 & 60182 & Female & 49 & 0 & 0 & Yes & Private       & Urban & 171.23 & 34.4 & smokes       & 1\\\\\n\t5 &  1665 & Female & 79 & 1 & 0 & Yes & Self-employed & Rural & 174.12 & 24   & never smoked & 1\\\\\n\\end{tabular}\n",
            "text/markdown": "\nA data.frame: 4 × 12\n\n| <!--/--> | id &lt;int&gt; | gender &lt;chr&gt; | age &lt;dbl&gt; | hypertension &lt;int&gt; | heart_disease &lt;int&gt; | ever_married &lt;chr&gt; | work_type &lt;chr&gt; | Residence_type &lt;chr&gt; | avg_glucose_level &lt;dbl&gt; | bmi &lt;chr&gt; | smoking_status &lt;chr&gt; | stroke &lt;int&gt; |\n|---|---|---|---|---|---|---|---|---|---|---|---|---|\n| 2 | 51676 | Female | 61 | 0 | 0 | Yes | Self-employed | Rural | 202.21 | N/A  | never smoked | 1 |\n| 3 | 31112 | Male   | 80 | 0 | 1 | Yes | Private       | Rural | 105.92 | 32.5 | never smoked | 1 |\n| 4 | 60182 | Female | 49 | 0 | 0 | Yes | Private       | Urban | 171.23 | 34.4 | smokes       | 1 |\n| 5 |  1665 | Female | 79 | 1 | 0 | Yes | Self-employed | Rural | 174.12 | 24   | never smoked | 1 |\n\n",
            "text/html": [
              "<table class=\"dataframe\">\n",
              "<caption>A data.frame: 4 × 12</caption>\n",
              "<thead>\n",
              "\t<tr><th></th><th scope=col>id</th><th scope=col>gender</th><th scope=col>age</th><th scope=col>hypertension</th><th scope=col>heart_disease</th><th scope=col>ever_married</th><th scope=col>work_type</th><th scope=col>Residence_type</th><th scope=col>avg_glucose_level</th><th scope=col>bmi</th><th scope=col>smoking_status</th><th scope=col>stroke</th></tr>\n",
              "\t<tr><th></th><th scope=col>&lt;int&gt;</th><th scope=col>&lt;chr&gt;</th><th scope=col>&lt;dbl&gt;</th><th scope=col>&lt;int&gt;</th><th scope=col>&lt;int&gt;</th><th scope=col>&lt;chr&gt;</th><th scope=col>&lt;chr&gt;</th><th scope=col>&lt;chr&gt;</th><th scope=col>&lt;dbl&gt;</th><th scope=col>&lt;chr&gt;</th><th scope=col>&lt;chr&gt;</th><th scope=col>&lt;int&gt;</th></tr>\n",
              "</thead>\n",
              "<tbody>\n",
              "\t<tr><th scope=row>2</th><td>51676</td><td>Female</td><td>61</td><td>0</td><td>0</td><td>Yes</td><td>Self-employed</td><td>Rural</td><td>202.21</td><td>N/A </td><td>never smoked</td><td>1</td></tr>\n",
              "\t<tr><th scope=row>3</th><td>31112</td><td>Male  </td><td>80</td><td>0</td><td>1</td><td>Yes</td><td>Private      </td><td>Rural</td><td>105.92</td><td>32.5</td><td>never smoked</td><td>1</td></tr>\n",
              "\t<tr><th scope=row>4</th><td>60182</td><td>Female</td><td>49</td><td>0</td><td>0</td><td>Yes</td><td>Private      </td><td>Urban</td><td>171.23</td><td>34.4</td><td>smokes      </td><td>1</td></tr>\n",
              "\t<tr><th scope=row>5</th><td> 1665</td><td>Female</td><td>79</td><td>1</td><td>0</td><td>Yes</td><td>Self-employed</td><td>Rural</td><td>174.12</td><td>24  </td><td>never smoked</td><td>1</td></tr>\n",
              "</tbody>\n",
              "</table>\n"
            ]
          },
          "metadata": {
            "tags": []
          }
        }
      ]
    },
    {
      "cell_type": "code",
      "metadata": {
        "colab": {
          "base_uri": "https://localhost:8080/",
          "height": 50
        },
        "id": "1IuGzaSdt2Ic",
        "outputId": "0d0674f7-e889-4bee-9a04-320aa353f84a"
      },
      "source": [
        "colSums(is.na(info))"
      ],
      "execution_count": 17,
      "outputs": [
        {
          "output_type": "display_data",
          "data": {
            "text/plain": [
              "               id            gender               age      hypertension \n",
              "                0                 0                 0                 0 \n",
              "    heart_disease      ever_married         work_type    Residence_type \n",
              "                0                 0                 0                 0 \n",
              "avg_glucose_level               bmi    smoking_status            stroke \n",
              "                0                 0                 0                 0 "
            ],
            "text/latex": "\\begin{description*}\n\\item[id] 0\n\\item[gender] 0\n\\item[age] 0\n\\item[hypertension] 0\n\\item[heart\\textbackslash{}\\_disease] 0\n\\item[ever\\textbackslash{}\\_married] 0\n\\item[work\\textbackslash{}\\_type] 0\n\\item[Residence\\textbackslash{}\\_type] 0\n\\item[avg\\textbackslash{}\\_glucose\\textbackslash{}\\_level] 0\n\\item[bmi] 0\n\\item[smoking\\textbackslash{}\\_status] 0\n\\item[stroke] 0\n\\end{description*}\n",
            "text/markdown": "id\n:   0gender\n:   0age\n:   0hypertension\n:   0heart_disease\n:   0ever_married\n:   0work_type\n:   0Residence_type\n:   0avg_glucose_level\n:   0bmi\n:   0smoking_status\n:   0stroke\n:   0\n\n",
            "text/html": [
              "<style>\n",
              ".dl-inline {width: auto; margin:0; padding: 0}\n",
              ".dl-inline>dt, .dl-inline>dd {float: none; width: auto; display: inline-block}\n",
              ".dl-inline>dt::after {content: \":\\0020\"; padding-right: .5ex}\n",
              ".dl-inline>dt:not(:first-of-type) {padding-left: .5ex}\n",
              "</style><dl class=dl-inline><dt>id</dt><dd>0</dd><dt>gender</dt><dd>0</dd><dt>age</dt><dd>0</dd><dt>hypertension</dt><dd>0</dd><dt>heart_disease</dt><dd>0</dd><dt>ever_married</dt><dd>0</dd><dt>work_type</dt><dd>0</dd><dt>Residence_type</dt><dd>0</dd><dt>avg_glucose_level</dt><dd>0</dd><dt>bmi</dt><dd>0</dd><dt>smoking_status</dt><dd>0</dd><dt>stroke</dt><dd>0</dd></dl>\n"
            ]
          },
          "metadata": {
            "tags": []
          }
        }
      ]
    },
    {
      "cell_type": "code",
      "metadata": {
        "colab": {
          "base_uri": "https://localhost:8080/",
          "height": 271
        },
        "id": "x7UUVbnOuhY0",
        "outputId": "6b784237-1ab3-4d15-cf06-34a9e29e43fd"
      },
      "source": [
        "sample_info_1less <- subset(info,select = -c(bmi))\n",
        "head(sample_info_1less)"
      ],
      "execution_count": 19,
      "outputs": [
        {
          "output_type": "display_data",
          "data": {
            "text/plain": [
              "  id    gender age hypertension heart_disease ever_married work_type    \n",
              "1  9046 Male   67  0            1             Yes          Private      \n",
              "2 51676 Female 61  0            0             Yes          Self-employed\n",
              "3 31112 Male   80  0            1             Yes          Private      \n",
              "4 60182 Female 49  0            0             Yes          Private      \n",
              "5  1665 Female 79  1            0             Yes          Self-employed\n",
              "6 56669 Male   81  0            0             Yes          Private      \n",
              "  Residence_type avg_glucose_level smoking_status  stroke\n",
              "1 Urban          228.69            formerly smoked 1     \n",
              "2 Rural          202.21            never smoked    1     \n",
              "3 Rural          105.92            never smoked    1     \n",
              "4 Urban          171.23            smokes          1     \n",
              "5 Rural          174.12            never smoked    1     \n",
              "6 Urban          186.21            formerly smoked 1     "
            ],
            "text/latex": "A data.frame: 6 × 11\n\\begin{tabular}{r|lllllllllll}\n  & id & gender & age & hypertension & heart\\_disease & ever\\_married & work\\_type & Residence\\_type & avg\\_glucose\\_level & smoking\\_status & stroke\\\\\n  & <int> & <chr> & <dbl> & <int> & <int> & <chr> & <chr> & <chr> & <dbl> & <chr> & <int>\\\\\n\\hline\n\t1 &  9046 & Male   & 67 & 0 & 1 & Yes & Private       & Urban & 228.69 & formerly smoked & 1\\\\\n\t2 & 51676 & Female & 61 & 0 & 0 & Yes & Self-employed & Rural & 202.21 & never smoked    & 1\\\\\n\t3 & 31112 & Male   & 80 & 0 & 1 & Yes & Private       & Rural & 105.92 & never smoked    & 1\\\\\n\t4 & 60182 & Female & 49 & 0 & 0 & Yes & Private       & Urban & 171.23 & smokes          & 1\\\\\n\t5 &  1665 & Female & 79 & 1 & 0 & Yes & Self-employed & Rural & 174.12 & never smoked    & 1\\\\\n\t6 & 56669 & Male   & 81 & 0 & 0 & Yes & Private       & Urban & 186.21 & formerly smoked & 1\\\\\n\\end{tabular}\n",
            "text/markdown": "\nA data.frame: 6 × 11\n\n| <!--/--> | id &lt;int&gt; | gender &lt;chr&gt; | age &lt;dbl&gt; | hypertension &lt;int&gt; | heart_disease &lt;int&gt; | ever_married &lt;chr&gt; | work_type &lt;chr&gt; | Residence_type &lt;chr&gt; | avg_glucose_level &lt;dbl&gt; | smoking_status &lt;chr&gt; | stroke &lt;int&gt; |\n|---|---|---|---|---|---|---|---|---|---|---|---|\n| 1 |  9046 | Male   | 67 | 0 | 1 | Yes | Private       | Urban | 228.69 | formerly smoked | 1 |\n| 2 | 51676 | Female | 61 | 0 | 0 | Yes | Self-employed | Rural | 202.21 | never smoked    | 1 |\n| 3 | 31112 | Male   | 80 | 0 | 1 | Yes | Private       | Rural | 105.92 | never smoked    | 1 |\n| 4 | 60182 | Female | 49 | 0 | 0 | Yes | Private       | Urban | 171.23 | smokes          | 1 |\n| 5 |  1665 | Female | 79 | 1 | 0 | Yes | Self-employed | Rural | 174.12 | never smoked    | 1 |\n| 6 | 56669 | Male   | 81 | 0 | 0 | Yes | Private       | Urban | 186.21 | formerly smoked | 1 |\n\n",
            "text/html": [
              "<table class=\"dataframe\">\n",
              "<caption>A data.frame: 6 × 11</caption>\n",
              "<thead>\n",
              "\t<tr><th></th><th scope=col>id</th><th scope=col>gender</th><th scope=col>age</th><th scope=col>hypertension</th><th scope=col>heart_disease</th><th scope=col>ever_married</th><th scope=col>work_type</th><th scope=col>Residence_type</th><th scope=col>avg_glucose_level</th><th scope=col>smoking_status</th><th scope=col>stroke</th></tr>\n",
              "\t<tr><th></th><th scope=col>&lt;int&gt;</th><th scope=col>&lt;chr&gt;</th><th scope=col>&lt;dbl&gt;</th><th scope=col>&lt;int&gt;</th><th scope=col>&lt;int&gt;</th><th scope=col>&lt;chr&gt;</th><th scope=col>&lt;chr&gt;</th><th scope=col>&lt;chr&gt;</th><th scope=col>&lt;dbl&gt;</th><th scope=col>&lt;chr&gt;</th><th scope=col>&lt;int&gt;</th></tr>\n",
              "</thead>\n",
              "<tbody>\n",
              "\t<tr><th scope=row>1</th><td> 9046</td><td>Male  </td><td>67</td><td>0</td><td>1</td><td>Yes</td><td>Private      </td><td>Urban</td><td>228.69</td><td>formerly smoked</td><td>1</td></tr>\n",
              "\t<tr><th scope=row>2</th><td>51676</td><td>Female</td><td>61</td><td>0</td><td>0</td><td>Yes</td><td>Self-employed</td><td>Rural</td><td>202.21</td><td>never smoked   </td><td>1</td></tr>\n",
              "\t<tr><th scope=row>3</th><td>31112</td><td>Male  </td><td>80</td><td>0</td><td>1</td><td>Yes</td><td>Private      </td><td>Rural</td><td>105.92</td><td>never smoked   </td><td>1</td></tr>\n",
              "\t<tr><th scope=row>4</th><td>60182</td><td>Female</td><td>49</td><td>0</td><td>0</td><td>Yes</td><td>Private      </td><td>Urban</td><td>171.23</td><td>smokes         </td><td>1</td></tr>\n",
              "\t<tr><th scope=row>5</th><td> 1665</td><td>Female</td><td>79</td><td>1</td><td>0</td><td>Yes</td><td>Self-employed</td><td>Rural</td><td>174.12</td><td>never smoked   </td><td>1</td></tr>\n",
              "\t<tr><th scope=row>6</th><td>56669</td><td>Male  </td><td>81</td><td>0</td><td>0</td><td>Yes</td><td>Private      </td><td>Urban</td><td>186.21</td><td>formerly smoked</td><td>1</td></tr>\n",
              "</tbody>\n",
              "</table>\n"
            ]
          },
          "metadata": {
            "tags": []
          }
        }
      ]
    },
    {
      "cell_type": "code",
      "metadata": {
        "colab": {
          "base_uri": "https://localhost:8080/",
          "height": 370
        },
        "id": "Tr28KV1Su-I_",
        "outputId": "65fb1ea0-0f23-4e05-920a-99176e113cce"
      },
      "source": [
        "summary(sample_info_1less)"
      ],
      "execution_count": 20,
      "outputs": [
        {
          "output_type": "display_data",
          "data": {
            "text/plain": [
              "       id           gender               age         hypertension    \n",
              " Min.   :   67   Length:5110        Min.   : 0.08   Min.   :0.00000  \n",
              " 1st Qu.:17741   Class :character   1st Qu.:25.00   1st Qu.:0.00000  \n",
              " Median :36932   Mode  :character   Median :45.00   Median :0.00000  \n",
              " Mean   :36518                      Mean   :43.23   Mean   :0.09746  \n",
              " 3rd Qu.:54682                      3rd Qu.:61.00   3rd Qu.:0.00000  \n",
              " Max.   :72940                      Max.   :82.00   Max.   :1.00000  \n",
              " heart_disease     ever_married        work_type         Residence_type    \n",
              " Min.   :0.00000   Length:5110        Length:5110        Length:5110       \n",
              " 1st Qu.:0.00000   Class :character   Class :character   Class :character  \n",
              " Median :0.00000   Mode  :character   Mode  :character   Mode  :character  \n",
              " Mean   :0.05401                                                           \n",
              " 3rd Qu.:0.00000                                                           \n",
              " Max.   :1.00000                                                           \n",
              " avg_glucose_level smoking_status         stroke       \n",
              " Min.   : 55.12    Length:5110        Min.   :0.00000  \n",
              " 1st Qu.: 77.25    Class :character   1st Qu.:0.00000  \n",
              " Median : 91.89    Mode  :character   Median :0.00000  \n",
              " Mean   :106.15                       Mean   :0.04873  \n",
              " 3rd Qu.:114.09                       3rd Qu.:0.00000  \n",
              " Max.   :271.74                       Max.   :1.00000  "
            ]
          },
          "metadata": {
            "tags": []
          }
        }
      ]
    },
    {
      "cell_type": "code",
      "metadata": {
        "id": "M4l93PwrvhoU"
      },
      "source": [
        ""
      ],
      "execution_count": null,
      "outputs": []
    }
  ]
}